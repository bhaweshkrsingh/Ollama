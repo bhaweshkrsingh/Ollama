{
 "cells": [
  {
   "cell_type": "code",
   "execution_count": 4,
   "id": "cd15325f-01d7-41a2-be9c-1d3e58fcb06c",
   "metadata": {},
   "outputs": [],
   "source": [
    "from flask import Flask\n",
    "from flask import jsonify\n",
    "from flask import request\n",
    "from flask_cors import CORS\n",
    "import logging\n",
    "import sys\n",
    "from model import init_index\n",
    "from model import init_conversation\n",
    "from model import chat\n",
    "from config import *\n",
    "\n",
    "app = Flask(__name__)\n",
    "CORS(app)\n",
    "\n",
    "logging.basicConfig(stream=sys.stdout, level=logging.INFO, format='%(asctime)s - %(levelname)s - %(message)s')\n",
    "\n",
    "@app.route('/api/question', methods=['POST'])\n",
    "def post_question():\n",
    "    json = request.get_json(silent=True)\n",
    "    question = json['question']\n",
    "    user_id = json['user_id']\n",
    "    logging.info(\"post question `%s` for user `%s`\", question, user_id)\n",
    "\n",
    "    resp = chat(question, user_id)\n",
    "    data = {'answer':resp}\n",
    "\n",
    "    return jsonify(data), 200\n",
    "\n",
    "if __name__ == '__main__':\n",
    "    init_index()\n",
    "    init_conversation()\n",
    "    app.run(host='0.0.0.0', port=HTTP_PORT, debug=True)"
   ]
  },
  {
   "cell_type": "code",
   "execution_count": 2,
   "id": "8314d89e-925c-4928-a52f-c365c22cae91",
   "metadata": {},
   "outputs": [
    {
     "name": "stdout",
     "output_type": "stream",
     "text": [
      "a\n"
     ]
    }
   ],
   "source": []
  },
  {
   "cell_type": "code",
   "execution_count": null,
   "id": "c77a7896-5573-4f59-96c1-cedb08fc65f6",
   "metadata": {},
   "outputs": [],
   "source": []
  }
 ],
 "metadata": {
  "kernelspec": {
   "display_name": "Python 3 (ipykernel)",
   "language": "python",
   "name": "python3"
  },
  "language_info": {
   "codemirror_mode": {
    "name": "ipython",
    "version": 3
   },
   "file_extension": ".py",
   "mimetype": "text/x-python",
   "name": "python",
   "nbconvert_exporter": "python",
   "pygments_lexer": "ipython3",
   "version": "3.11.7"
  }
 },
 "nbformat": 4,
 "nbformat_minor": 5
}
